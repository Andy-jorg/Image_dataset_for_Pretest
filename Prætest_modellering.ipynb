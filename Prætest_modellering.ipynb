{
  "nbformat": 4,
  "nbformat_minor": 0,
  "metadata": {
    "colab": {
      "provenance": [],
      "authorship_tag": "ABX9TyPFspcRIdMgmvrbME01N6Ul",
      "include_colab_link": true
    },
    "kernelspec": {
      "name": "python3",
      "display_name": "Python 3"
    },
    "language_info": {
      "name": "python"
    }
  },
  "cells": [
    {
      "cell_type": "markdown",
      "metadata": {
        "id": "view-in-github",
        "colab_type": "text"
      },
      "source": [
        "<a href=\"https://colab.research.google.com/github/Andy-jorg/Image_dataset_for_Pretest/blob/main/Pr%C3%A6test_modellering.ipynb\" target=\"_parent\"><img src=\"https://colab.research.google.com/assets/colab-badge.svg\" alt=\"Open In Colab\"/></a>"
      ]
    },
    {
      "cell_type": "markdown",
      "source": [
        "First we install ktrain, load some packages and clone our repository with the necessary data"
      ],
      "metadata": {
        "id": "ldKH2Jukqb90"
      }
    },
    {
      "cell_type": "code",
      "execution_count": null,
      "metadata": {
        "id": "3gQOLK7ubYCx"
      },
      "outputs": [],
      "source": [
        "!pip install ktrain"
      ]
    },
    {
      "cell_type": "code",
      "source": [
        "%matplotlib inline\n",
        "import os\n",
        "import ktrain\n",
        "from ktrain import vision as vis\n",
        "import pandas as pd\n",
        "from PIL import Image"
      ],
      "metadata": {
        "id": "WehRfEjvkqZA"
      },
      "execution_count": null,
      "outputs": []
    },
    {
      "cell_type": "code",
      "source": [
        "from google.colab import drive\n",
        "drive.mount('/content/gdrive')"
      ],
      "metadata": {
        "colab": {
          "base_uri": "https://localhost:8080/"
        },
        "id": "9D5E1fyjqeJZ",
        "outputId": "ba731af3-c5d7-4061-ada0-8692fb926c8c"
      },
      "execution_count": null,
      "outputs": [
        {
          "output_type": "stream",
          "name": "stdout",
          "text": [
            "Mounted at /content/gdrive\n"
          ]
        }
      ]
    },
    {
      "cell_type": "markdown",
      "source": [
        "Let's see if the cloning works and we can see some pictures"
      ],
      "metadata": {
        "id": "OlYNUGS4mxaA"
      }
    },
    {
      "cell_type": "code",
      "source": [
        "vis.show_random_images('/content/Image_dataset_for_Pretest/images_for_model')"
      ],
      "metadata": {
        "id": "7ZhSxZKgm3ah"
      },
      "execution_count": null,
      "outputs": []
    },
    {
      "cell_type": "markdown",
      "source": [
        "Now we'll use ktrain  to set up the model."
      ],
      "metadata": {
        "id": "ubratgDbsQ9A"
      }
    },
    {
      "cell_type": "markdown",
      "source": [
        "First we start by creating a function that partitions our images into train and validation set and where we know information about our scores"
      ],
      "metadata": {
        "id": "rIqLo8WlcYU3"
      }
    },
    {
      "cell_type": "code",
      "source": [
        "# Alter the code below to have the correct images folder (directory) and train and val fpath, depending on whether it is means, sample, with or without extra train set etc.\n",
        "\n",
        "def images_from_csv():\n",
        "    train_fpath = '/content/Image_dataset_for_Pretest/Images_5/images_train_sample_NEW.csv'\n",
        "    val_fpath = '/content/Image_dataset_for_Pretest/Images_5/images_val_sample_NEW.csv'\n",
        "    trn, val, preproc = vis.images_from_csv(\n",
        "                          train_fpath,\n",
        "                          'image',\n",
        "                          directory='/content/Image_dataset_for_Pretest/Images_5',\n",
        "                          is_regression = True,\n",
        "                          val_filepath = val_fpath,\n",
        "                          target_size = (224, 224),\n",
        "                          label_columns = 'liking',\n",
        "                          data_aug=vis.get_data_aug(horizontal_flip=True))\n",
        "    return (trn, val, preproc)"
      ],
      "metadata": {
        "id": "uSgUhn7GFtP6"
      },
      "execution_count": null,
      "outputs": []
    },
    {
      "cell_type": "code",
      "source": [
        "(train_data, val_data, preproc) = images_from_csv()"
      ],
      "metadata": {
        "id": "LUKjSCodGAh7"
      },
      "execution_count": null,
      "outputs": []
    },
    {
      "cell_type": "markdown",
      "source": [
        "See available models"
      ],
      "metadata": {
        "id": "nVg2rhHTsj2x"
      }
    },
    {
      "cell_type": "code",
      "source": [
        "vis.print_image_regression_models()"
      ],
      "metadata": {
        "colab": {
          "base_uri": "https://localhost:8080/"
        },
        "id": "yGfDzqU5sl9R",
        "outputId": "c23f4988-d023-4be3-f4ef-87cc80dcc25e"
      },
      "execution_count": null,
      "outputs": [
        {
          "output_type": "stream",
          "name": "stdout",
          "text": [
            "pretrained_resnet50: 50-layer Residual Network (pretrained on ImageNet)\n",
            "resnet50: 50-layer Resididual Network (randomly initialized) [https://arxiv.org/abs/1512.03385]\n",
            "pretrained_mobilenet: MobileNet Neural Network (pretrained on ImageNet)\n",
            "mobilenet: MobileNet Neural Network (randomly initialized) [https://arxiv.org/abs/1704.04861]\n",
            "pretrained_mobilenetv3: MobileNetV3-Small Neural Network (pretrained on ImageNet)\n",
            "mobilenetv3: MobileNetV3-Small Neural Network (randomly initialized) [https://arxiv.org/abs/1905.02244]\n",
            "pretrained_inception: Inception Version 3  (pretrained on ImageNet)\n",
            "inception: Inception Version 3 (randomly initialized) [http://arxiv.org/abs/1512.00567]\n",
            "pretrained_efficientnetb1: EfficientNet-B1 Neural Network (pretrained on ImageNet)\n",
            "efficientnetb1: EfficientNet-B1 Neural Network (pretrained on ImageNet) [https://arxiv.org/abs/1905.11946]\n",
            "pretrained_efficientnetb7: EfficientNet-B7 Neural Network (pretrained on ImageNet)\n",
            "efficientnetb7: EfficientNet-B7 Neural Network (pretrained on ImageNet) [https://arxiv.org/abs/1905.11946]\n",
            "wrn22: 22-layer Wide Residual Network (randomly initialized)\n",
            "default_cnn: a default LeNet-like Convolutional Neural Network\n"
          ]
        }
      ]
    },
    {
      "cell_type": "markdown",
      "source": [
        "Now we chose the model - let's try with ResNet50"
      ],
      "metadata": {
        "id": "JfgLC_iZs2Ab"
      }
    },
    {
      "cell_type": "code",
      "source": [
        "model = vis.image_regression_model('pretrained_resnet50',\n",
        "                                   train_data = train_data,\n",
        "                                   val_data = val_data)"
      ],
      "metadata": {
        "id": "OKBIMKt7s4X7",
        "colab": {
          "base_uri": "https://localhost:8080/"
        },
        "outputId": "0001ad21-396e-430e-c4a3-5089c25078c9"
      },
      "execution_count": null,
      "outputs": [
        {
          "output_type": "stream",
          "name": "stdout",
          "text": [
            "The normalization scheme has been changed for use with a pretrained_resnet50 model. If you decide to use a different model, please reload your dataset with a ktrain.vision.data.images_from* function.\n",
            "\n",
            "Is Multi-Label? False\n",
            "Is Regression? True\n",
            "Downloading data from https://storage.googleapis.com/tensorflow/keras-applications/resnet/resnet50_weights_tf_dim_ordering_tf_kernels_notop.h5\n",
            "94765736/94765736 [==============================] - 0s 0us/step\n",
            "pretrained_resnet50 model created.\n"
          ]
        }
      ]
    },
    {
      "cell_type": "code",
      "source": [
        "learner = ktrain.get_learner(model = model,\n",
        "                             train_data = train_data,\n",
        "                             val_data = val_data,\n",
        "                             batch_size = 64)\n",
        "\n",
        "learner"
      ],
      "metadata": {
        "id": "5biHYRgGtLXM",
        "colab": {
          "base_uri": "https://localhost:8080/"
        },
        "outputId": "3b851804-975c-4509-ddf9-728636636d31"
      },
      "execution_count": null,
      "outputs": [
        {
          "output_type": "execute_result",
          "data": {
            "text/plain": [
              "<ktrain.vision.learner.ImageClassLearner at 0x7d6981019750>"
            ]
          },
          "metadata": {},
          "execution_count": 56
        }
      ]
    },
    {
      "cell_type": "markdown",
      "source": [
        "To find optimal learning rate run the code below. However, it is very slow."
      ],
      "metadata": {
        "id": "DvNEPri9c3B4"
      }
    },
    {
      "cell_type": "code",
      "source": [
        "learner.lr_find(max_epochs=2)"
      ],
      "metadata": {
        "id": "PiAesXH0DmQS"
      },
      "execution_count": null,
      "outputs": []
    },
    {
      "cell_type": "code",
      "source": [
        "learner.lr_plot()"
      ],
      "metadata": {
        "colab": {
          "base_uri": "https://localhost:8080/",
          "height": 454
        },
        "id": "Oh9xfsvoD92u",
        "outputId": "28887261-414b-4d0a-f768-4a11a17f5269"
      },
      "execution_count": null,
      "outputs": [
        {
          "output_type": "display_data",
          "data": {
            "text/plain": [
              "<Figure size 640x480 with 1 Axes>"
            ],
            "image/png": "[encoded data removed]"
          },
          "metadata": {}
        }
      ]
    },
    {
      "cell_type": "markdown",
      "source": [
        "# Training"
      ],
      "metadata": {
        "id": "ktGoyYvpdNoE"
      }
    },
    {
      "cell_type": "markdown",
      "source": [
        "We will begin by training the model for 7 epochs using a 1cycle (https://arxiv.org/abs/1803.09820) learning rate policy."
      ],
      "metadata": {
        "id": "Pz9UcH7-daS9"
      }
    },
    {
      "cell_type": "code",
      "source": [
        "learner.fit_onecycle(1e-4, 7)"
      ],
      "metadata": {
        "id": "mbrkTPWLuOjv",
        "colab": {
          "base_uri": "https://localhost:8080/"
        },
        "outputId": "6c32e303-e40d-4f7f-d376-3f90857c794a"
      },
      "execution_count": null,
      "outputs": [
        {
          "output_type": "stream",
          "name": "stdout",
          "text": [
            "\n",
            "\n",
            "begin training using onecycle policy with max lr of 0.0001...\n",
            "Epoch 1/7\n",
            "1047/1047 [==============================] - 1006s 954ms/step - loss: 9.1263 - mae: 2.3800 - val_loss: 2.3072 - val_mae: 1.2014\n",
            "Epoch 2/7\n",
            "1047/1047 [==============================] - 998s 953ms/step - loss: 6.0896 - mae: 1.9458 - val_loss: 1.8534 - val_mae: 1.0599\n",
            "Epoch 3/7\n",
            "1047/1047 [==============================] - 993s 948ms/step - loss: 4.3155 - mae: 1.6369 - val_loss: 1.6581 - val_mae: 1.0178\n",
            "Epoch 4/7\n",
            "1047/1047 [==============================] - 1000s 955ms/step - loss: 3.4067 - mae: 1.4537 - val_loss: 1.9220 - val_mae: 1.1129\n",
            "Epoch 5/7\n",
            "1047/1047 [==============================] - 1076s 1s/step - loss: 2.7773 - mae: 1.3142 - val_loss: 1.3562 - val_mae: 0.9141\n",
            "Epoch 6/7\n",
            "1047/1047 [==============================] - 1124s 1s/step - loss: 2.1132 - mae: 1.1452 - val_loss: 1.1768 - val_mae: 0.8382\n",
            "Epoch 7/7\n",
            "1047/1047 [==============================] - 1155s 1s/step - loss: 1.7141 - mae: 1.0315 - val_loss: 1.0080 - val_mae: 0.7812\n"
          ]
        },
        {
          "output_type": "execute_result",
          "data": {
            "text/plain": [
              "<keras.src.callbacks.History at 0x7d69e9b9f160>"
            ]
          },
          "metadata": {},
          "execution_count": 58
        }
      ]
    },
    {
      "cell_type": "markdown",
      "source": [
        "Run the code below to save the learning. Remember to update the path"
      ],
      "metadata": {
        "id": "Hmwu125wdjdZ"
      }
    },
    {
      "cell_type": "code",
      "source": [
        "ktrain.get_predictor(learner.model, preproc).save('/content/gdrive/MyDrive/Colab/my_predictor_50_less')"
      ],
      "metadata": {
        "colab": {
          "base_uri": "https://localhost:8080/"
        },
        "id": "-UX3umA2NT2v",
        "outputId": "bce6d355-94df-44d9-8bfe-b386af6f3fa4"
      },
      "execution_count": null,
      "outputs": [
        {
          "output_type": "stream",
          "name": "stderr",
          "text": [
            "/usr/local/lib/python3.10/dist-packages/keras/src/engine/training.py:3103: UserWarning: You are saving your model as an HDF5 file via `model.save()`. This file format is considered legacy. We recommend using instead the native Keras format, e.g. `model.save('my_model.keras')`.\n",
            "  saving_api.save_model(\n"
          ]
        }
      ]
    },
    {
      "cell_type": "markdown",
      "source": [
        "Try to load model and keep training"
      ],
      "metadata": {
        "id": "AedTgXjfmDnd"
      }
    },
    {
      "cell_type": "code",
      "source": [
        "model = ktrain.load_predictor('/content/gdrive/MyDrive/Colab/my_predictor_50_less').model\n",
        "\n",
        "# re-instantiate Learner and continue training\n",
        "learner = ktrain.get_learner(model, train_data = train_data, val_data = val_data)\n"
      ],
      "metadata": {
        "id": "e7e_zrPZmF5c"
      },
      "execution_count": null,
      "outputs": []
    },
    {
      "cell_type": "markdown",
      "source": [
        "Now we will freze some layers and train for another two epochs on the remaining unfreezed layers. We will freeze the first 40 layers"
      ],
      "metadata": {
        "id": "C6Fv8ZEAuVu5"
      }
    },
    {
      "cell_type": "code",
      "source": [
        "learner.freeze(20)\n",
        "\n",
        "learner.fit_onecycle(1e-4, 4)"
      ],
      "metadata": {
        "id": "a1GiC0B0ucKI",
        "colab": {
          "base_uri": "https://localhost:8080/"
        },
        "outputId": "29fcbbd2-322d-429c-c85d-bb249f338323"
      },
      "execution_count": null,
      "outputs": [
        {
          "output_type": "stream",
          "name": "stdout",
          "text": [
            "\n",
            "\n",
            "begin training using onecycle policy with max lr of 0.0001...\n",
            "Epoch 1/4\n",
            "1047/1047 [==============================] - 1131s 1s/step - loss: 1.4408 - mae: 0.9389 - val_loss: 0.8898 - val_mae: 0.7438\n",
            "Epoch 2/4\n",
            "1047/1047 [==============================] - 1114s 1s/step - loss: 0.9302 - mae: 0.7525 - val_loss: 1.0482 - val_mae: 0.7925\n",
            "Epoch 3/4\n",
            "1047/1047 [==============================] - 1116s 1s/step - loss: 0.8845 - mae: 0.7343 - val_loss: 0.8444 - val_mae: 0.7257\n",
            "Epoch 4/4\n",
            "1047/1047 [==============================] - 1130s 1s/step - loss: 0.8393 - mae: 0.7158 - val_loss: 0.8344 - val_mae: 0.7150\n"
          ]
        },
        {
          "output_type": "execute_result",
          "data": {
            "text/plain": [
              "<keras.src.callbacks.History at 0x7d6981058c40>"
            ]
          },
          "metadata": {},
          "execution_count": 59
        }
      ]
    },
    {
      "cell_type": "markdown",
      "source": [
        "# Prediction"
      ],
      "metadata": {
        "id": "3uqGuhlkd4F-"
      }
    },
    {
      "cell_type": "code",
      "source": [
        "predictor = ktrain.get_predictor(learner.model, preproc)"
      ],
      "metadata": {
        "id": "PPkOhWqDuycR"
      },
      "execution_count": null,
      "outputs": []
    },
    {
      "cell_type": "markdown",
      "source": [
        "Now we try to predict based on filenames. First we import the necessary datafiles"
      ],
      "metadata": {
        "id": "AJ9EPQfj3drb"
      }
    },
    {
      "cell_type": "code",
      "source": [],
      "metadata": {
        "id": "V_H8L6HP2Abl"
      },
      "execution_count": null,
      "outputs": []
    },
    {
      "cell_type": "code",
      "source": [
        "#DATADIR = \"/content/Image_dataset_for_Pretest/Images_5\"\n",
        "\n",
        "DATADIR = \"/content/Image_dataset_for_Pretest/Test images\"\n",
        "\n",
        "# Create a list of image file names\n",
        "image_files = [f for f in os.listdir(DATADIR) if f.endswith(('.jpg', '.jpeg', '.png'))]\n",
        "\n"
      ],
      "metadata": {
        "id": "k-ZIndeU2mn0"
      },
      "execution_count": null,
      "outputs": []
    },
    {
      "cell_type": "code",
      "source": [
        "# Create a DataFrame to store predictions\n",
        "predictions_df = pd.DataFrame(columns=['Image', 'Prediction'])\n"
      ],
      "metadata": {
        "id": "mvnvpaWG2yoT"
      },
      "execution_count": null,
      "outputs": []
    },
    {
      "cell_type": "code",
      "source": [
        "# Loop through each image, make predictions, and store results in the DataFrame\n",
        "for image_file in image_files:\n",
        "    image_path = os.path.join(DATADIR, image_file)\n",
        "\n",
        "   # Make prediction using the predictor\n",
        "    prediction = predictor.predict_filename(image_path)\n",
        "\n",
        "    # Append results to DataFrame\n",
        "    predictions_df = predictions_df.append({'Image': image_file, 'Prediction': prediction}, ignore_index=True)\n"
      ],
      "metadata": {
        "id": "Pmi3rIQ325uc"
      },
      "execution_count": null,
      "outputs": []
    },
    {
      "cell_type": "markdown",
      "source": [
        "Now we save the file as a .csv file to the drive"
      ],
      "metadata": {
        "id": "nGLTKexz42Im"
      }
    },
    {
      "cell_type": "code",
      "source": [
        "# Save the DataFrame as a CSV or Excel file\n",
        "csv_filename = \"/content/gdrive/MyDrive/Colab/predictions_test_images_15012024.csv\"\n",
        "predictions_df.to_csv(csv_filename, index=False)"
      ],
      "metadata": {
        "id": "IT2Gt6ic44MD"
      },
      "execution_count": null,
      "outputs": []
    }
  ]
}